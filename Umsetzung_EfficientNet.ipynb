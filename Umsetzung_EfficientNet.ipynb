{
  "nbformat": 4,
  "nbformat_minor": 0,
  "metadata": {
    "accelerator": "GPU",
    "colab": {
      "name": "Umsetzung_EfficientNet.ipynb",
      "provenance": [],
      "collapsed_sections": [
        "oenaoVP-s-FT",
        "LkHNYj-RuiV5",
        "X3GkrGP7Ffgr",
        "2Vx148WEDzkb"
      ],
      "toc_visible": true
    },
    "kernelspec": {
      "display_name": "Python 3",
      "name": "python3"
    },
    "language_info": {
      "name": "python"
    }
  },
  "cells": [
    {
      "cell_type": "markdown",
      "metadata": {
        "id": "nsGhVmB9u0_d"
      },
      "source": [
        "# Umsetzung des EfficientNet Klassifizierers."
      ]
    },
    {
      "cell_type": "code",
      "metadata": {
        "id": "rtnYeUMGewCd"
      },
      "source": [
        "!pip install fastai wwf timm -q --upgrade"
      ],
      "execution_count": null,
      "outputs": []
    },
    {
      "cell_type": "code",
      "metadata": {
        "id": "YcTmvqDBe70T"
      },
      "source": [
        "from fastai.vision.all import *\n",
        "from fastai.vision.learner import _update_first_layer"
      ],
      "execution_count": null,
      "outputs": []
    },
    {
      "cell_type": "code",
      "metadata": {
        "id": "NLXcaAathTA5"
      },
      "source": [
        "# Mit drive verbinden zum laden der Bilder\n",
        "from google.colab import drive\n",
        "drive.mount('/content/drive')"
      ],
      "execution_count": null,
      "outputs": []
    },
    {
      "cell_type": "code",
      "metadata": {
        "id": "g4LfSI7pjTHW"
      },
      "source": [
        "# from wwf.utils import state_versions\n",
        "# state_versions(['fastai', 'fastcore', 'wwf', 'timm'])"
      ],
      "execution_count": null,
      "outputs": []
    },
    {
      "cell_type": "markdown",
      "metadata": {
        "id": "dsfFvj8JfCrN"
      },
      "source": [
        "# Laden der Daten"
      ]
    },
    {
      "cell_type": "code",
      "metadata": {
        "id": "Qx2TrDljfCan"
      },
      "source": [
        "path = Path('/content/drive/MyDrive/Seminar/fish_1')"
      ],
      "execution_count": null,
      "outputs": []
    },
    {
      "cell_type": "code",
      "metadata": {
        "id": "sqYVT0qgfMhI"
      },
      "source": [
        "# setzen der Transformationen\n",
        "batch_tfms = [*aug_transforms(size=224, flip_vert=True, min_scale=0.75, max_warp=0), \n",
        "              Normalize.from_stats(*imagenet_stats)]\n",
        "bs=32"
      ],
      "execution_count": null,
      "outputs": []
    },
    {
      "cell_type": "code",
      "metadata": {
        "id": "79T49dPqThgk"
      },
      "source": [
        "# DataLoaders mit Transformationen erstellen\n",
        "fish = DataBlock(\n",
        "    blocks=(ImageBlock, CategoryBlock), \n",
        "    get_items=get_image_files, \n",
        "    splitter = RandomSplitter(valid_pct=0.2, seed=42),\n",
        "    get_y=parent_label,\n",
        "    item_tfms=Resize(460), \n",
        "    batch_tfms=batch_tfms)\n",
        "dls = fish.dataloaders(path, bs=bs)"
      ],
      "execution_count": null,
      "outputs": []
    },
    {
      "cell_type": "code",
      "metadata": {
        "id": "Ks48AwTEhO_4"
      },
      "source": [
        "# Test der DataLoaders\n",
        "dls.show_batch(max_n=3)"
      ],
      "execution_count": null,
      "outputs": []
    },
    {
      "cell_type": "code",
      "metadata": {
        "id": "bUYQMy9NBeai"
      },
      "source": [
        "# Test der Transformationen\n",
        "dls.show_batch(nrows=2, ncols=4, unique=true)"
      ],
      "execution_count": null,
      "outputs": []
    },
    {
      "cell_type": "markdown",
      "metadata": {
        "id": "monj7wTfdGEi"
      },
      "source": [
        "# Modell Import\n",
        "Für die Umsetzung wird Ross Wightman's [repository](https://github.com/rwightman/pytorch-image-models) verwendet. "
      ]
    },
    {
      "cell_type": "code",
      "metadata": {
        "colab": {
          "base_uri": "https://localhost:8080/"
        },
        "id": "fjjJLOyTu1QO",
        "outputId": "014f1019-6764-41b4-bd87-339facca6de5"
      },
      "source": [
        "!pip install timm"
      ],
      "execution_count": null,
      "outputs": [
        {
          "output_type": "stream",
          "text": [
            "Requirement already satisfied: timm in /usr/local/lib/python3.7/dist-packages (0.4.9)\n",
            "Requirement already satisfied: torch>=1.4 in /usr/local/lib/python3.7/dist-packages (from timm) (1.9.0+cu102)\n",
            "Requirement already satisfied: torchvision in /usr/local/lib/python3.7/dist-packages (from timm) (0.10.0+cu102)\n",
            "Requirement already satisfied: typing-extensions in /usr/local/lib/python3.7/dist-packages (from torch>=1.4->timm) (3.7.4.3)\n",
            "Requirement already satisfied: numpy in /usr/local/lib/python3.7/dist-packages (from torchvision->timm) (1.19.5)\n",
            "Requirement already satisfied: pillow>=5.3.0 in /usr/local/lib/python3.7/dist-packages (from torchvision->timm) (7.1.2)\n"
          ],
          "name": "stdout"
        }
      ]
    },
    {
      "cell_type": "code",
      "metadata": {
        "id": "UG32jG8_u0Eq"
      },
      "source": [
        "from timm import create_model"
      ],
      "execution_count": null,
      "outputs": []
    },
    {
      "cell_type": "code",
      "metadata": {
        "id": "SVJS8DGedhJf"
      },
      "source": [
        "net = create_model('efficientnet_b3a', pretrained=True)"
      ],
      "execution_count": null,
      "outputs": []
    },
    {
      "cell_type": "code",
      "metadata": {
        "id": "1TOo5crvd20F"
      },
      "source": [
        "# Analyse der Struktur von FastAi\n",
        "learn = cnn_learner(dls, resnet18)"
      ],
      "execution_count": null,
      "outputs": []
    },
    {
      "cell_type": "code",
      "metadata": {
        "id": "hIuArbWDlTkv"
      },
      "source": [
        "learn.model[-1]"
      ],
      "execution_count": null,
      "outputs": []
    },
    {
      "cell_type": "code",
      "metadata": {
        "id": "vK1S740flaIQ"
      },
      "source": [
        "# vergleich mit der EfficientNet Struktur\n",
        "net"
      ],
      "execution_count": null,
      "outputs": []
    },
    {
      "cell_type": "markdown",
      "metadata": {
        "id": "41wELwTQljQS"
      },
      "source": [
        "Anpassen des EfficientNet Models an die FastAi Anforderungen."
      ]
    },
    {
      "cell_type": "code",
      "metadata": {
        "id": "R1rHriHnmDwC"
      },
      "source": [
        "# \n",
        "# Quelle der Funktion gemäs Müller 2020: \n",
        "# Müller, Zachary (2020): A walk with fastai2. 05_EfficientNet_and_Custom_Weights. \n",
        "# Online verfügbar unter https://colab.research.google.com/github/walkwithfastai/\n",
        "# walkwithfastai.github.io/blob/master/nbs/course2020/vision/05_EfficientNet_and\n",
        "# _Custom_Weights.ipynb#scrollTo=LyZbSn3OcT0S, zuletzt geprüft am 19.06.2021.\n",
        "def create_timm_body(arch:str, pretrained=True, cut=None, n_in=3):\n",
        "    \"Creates a body from any model in the `timm` library.\"\n",
        "    model = create_model(arch, pretrained=pretrained, num_classes=0, global_pool='')\n",
        "    _update_first_layer(model, n_in, pretrained)\n",
        "    if cut is None:\n",
        "        ll = list(enumerate(model.children()))\n",
        "        cut = next(i for i,o in reversed(ll) if has_pool_type(o))\n",
        "    if isinstance(cut, int): return nn.Sequential(*list(model.children())[:cut])\n",
        "    elif callable(cut): return cut(model)\n",
        "    else: raise NamedError(\"cut must be either integer or function\")"
      ],
      "execution_count": null,
      "outputs": []
    },
    {
      "cell_type": "code",
      "metadata": {
        "id": "TC2hAA6-mdKQ"
      },
      "source": [
        "# erstellen des EfficientNet Modells\n",
        "# extrahieren der Body Layer\n",
        "body = create_timm_body('efficientnet_b3a', pretrained=True)\n",
        "# extrahieren der Anzahl an Input Features\n",
        "nf = num_features_model(nn.Sequential(*body.children()))\n",
        "# erstellen des Heads mit entsprechender Anzahl input und output features\n",
        "head = create_head(nf, dls.c)\n",
        "# zusammenfügen \n",
        "model = nn.Sequential(body, head)\n",
        "# initialisieren \n",
        "apply_init(model[1], nn.init.kaiming_normal_)"
      ],
      "execution_count": null,
      "outputs": []
    },
    {
      "cell_type": "markdown",
      "metadata": {
        "id": "v2svmNcEn6Ox"
      },
      "source": [
        "Das EfficientNet Model befindet sich nun im von FastAi notwendigen Status und kann normal verwendet werden."
      ]
    },
    {
      "cell_type": "markdown",
      "metadata": {
        "id": "RE3xxn70oFCX"
      },
      "source": [
        "# Umsetzung mit EfficientNet"
      ]
    },
    {
      "cell_type": "code",
      "metadata": {
        "id": "qm8KS60Kn1il"
      },
      "source": [
        "learn = Learner(dls, model)"
      ],
      "execution_count": null,
      "outputs": []
    },
    {
      "cell_type": "code",
      "metadata": {
        "id": "4pDab5LNoQA8"
      },
      "source": [
        "learn.summary()"
      ],
      "execution_count": null,
      "outputs": []
    },
    {
      "cell_type": "code",
      "metadata": {
        "id": "ZN5gsCWiESvW"
      },
      "source": [
        "# splitten des Modells um das Einfrieren zu ermoeglichen\n",
        "learn = Learner(dls, model, splitter=default_split, metrics=error_rate)"
      ],
      "execution_count": null,
      "outputs": []
    },
    {
      "cell_type": "code",
      "metadata": {
        "id": "dJuiqZoEVoOQ"
      },
      "source": [
        "learn.summary()"
      ],
      "execution_count": null,
      "outputs": []
    },
    {
      "cell_type": "markdown",
      "metadata": {
        "id": "A6BGtVZ9Vrnh"
      },
      "source": [
        "stage-1"
      ]
    },
    {
      "cell_type": "code",
      "metadata": {
        "id": "IBMougnupjje"
      },
      "source": [
        "learn.freeze()"
      ],
      "execution_count": null,
      "outputs": []
    },
    {
      "cell_type": "code",
      "metadata": {
        "id": "9K-2F_aVplYI"
      },
      "source": [
        "learn.lr_find()"
      ],
      "execution_count": null,
      "outputs": []
    },
    {
      "cell_type": "code",
      "metadata": {
        "id": "bCQJTYzwpnyk"
      },
      "source": [
        "learn.fit_one_cycle(15, 1.2e-3)"
      ],
      "execution_count": null,
      "outputs": []
    },
    {
      "cell_type": "code",
      "metadata": {
        "id": "k5Eo3J9pRsxy"
      },
      "source": [
        "# speichern\n",
        "# learn.save('stage-1-effNet-15ep')"
      ],
      "execution_count": null,
      "outputs": []
    },
    {
      "cell_type": "code",
      "metadata": {
        "id": "ZcZMQmAuRv9t"
      },
      "source": [
        "learn.recorder.plot_loss()"
      ],
      "execution_count": null,
      "outputs": []
    },
    {
      "cell_type": "markdown",
      "metadata": {
        "id": "dB43ggniVJ9B"
      },
      "source": [
        "stage-2"
      ]
    },
    {
      "cell_type": "code",
      "metadata": {
        "id": "4ejd6VFXqwaa"
      },
      "source": [
        "learn.unfreeze()\n",
        "learn.lr_find()"
      ],
      "execution_count": null,
      "outputs": []
    },
    {
      "cell_type": "code",
      "metadata": {
        "id": "Rh3TEf6asQvM"
      },
      "source": [
        "learn.fit_one_cycle(3,  lr_max=slice(1e-5,3e-4))"
      ],
      "execution_count": null,
      "outputs": []
    },
    {
      "cell_type": "code",
      "metadata": {
        "id": "pWT1xt9xtSwv"
      },
      "source": [
        "# speichern und exportieren\n",
        "# learn.save('stage-2-effNet-3ep')\n",
        "# learn.export()"
      ],
      "execution_count": null,
      "outputs": []
    },
    {
      "cell_type": "markdown",
      "metadata": {
        "id": "JwZ2IpPvKZVj"
      },
      "source": [
        "# Zusatz\n",
        "In diesem Abschnitt sind einige Zusatzfunktionen zur Interpretation der Ergebnisse zu einfachen Umsetzung hinterlegt, identisch zu ResNet."
      ]
    },
    {
      "cell_type": "code",
      "metadata": {
        "id": "5lEkUTnHFHUy"
      },
      "source": [
        "# weitere Auswertungen falls gewünscht\n",
        "# learn34 = ResNet34 Learner\n",
        "# learn101 = ResNet101 Learner\n",
        "interp = ClassificationInterpretation.from_learner(learn34)\n",
        "interp.plot_confusion_matrix(figsize=(12,12), dpi=60)"
      ],
      "execution_count": null,
      "outputs": []
    },
    {
      "cell_type": "code",
      "metadata": {
        "id": "cMTNtMO3HPWG"
      },
      "source": [
        "interp.most_confused(min_val=2)"
      ],
      "execution_count": null,
      "outputs": []
    },
    {
      "cell_type": "code",
      "metadata": {
        "id": "B175sxR8Fic2"
      },
      "source": [
        "# fehlerhaft klassifizierte Bilder anzeigen\n",
        "interp.plot_top_losses(5, nrows=5)"
      ],
      "execution_count": null,
      "outputs": []
    },
    {
      "cell_type": "code",
      "metadata": {
        "id": "AjTitgy8V9XC"
      },
      "source": [
        "# extrahieren der exogenen und endogenen Variablen\n",
        "x,y = dls.one_batch()"
      ],
      "execution_count": null,
      "outputs": []
    },
    {
      "cell_type": "code",
      "metadata": {
        "id": "1Lbz9eJvV9XC"
      },
      "source": [
        "# auslesen der Klassenbezeichnung der endogenen Variablen\n",
        "dls.vocab"
      ],
      "execution_count": null,
      "outputs": []
    },
    {
      "cell_type": "code",
      "metadata": {
        "id": "4lulOeHrV9XD"
      },
      "source": [
        "y"
      ],
      "execution_count": null,
      "outputs": []
    },
    {
      "cell_type": "code",
      "metadata": {
        "id": "_oQnIb3OV9XD"
      },
      "source": [
        "# auslesener der Klassenwahrscheinlichkeiten des ersten Bildes\n",
        "preds,_ = learn34.get_preds(dl=[(x,y)])\n",
        "preds[0]"
      ],
      "execution_count": null,
      "outputs": []
    },
    {
      "cell_type": "code",
      "metadata": {
        "id": "EnEd0VwqV9XD"
      },
      "source": [
        "# prüfe die Summe der Wahrscheinlichkeiten\n",
        "len(preds[0]), preds[0].sum()"
      ],
      "execution_count": null,
      "outputs": []
    }
  ]
}