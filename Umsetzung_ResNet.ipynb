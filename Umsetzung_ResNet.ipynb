{
  "nbformat": 4,
  "nbformat_minor": 0,
  "metadata": {
    "colab": {
      "name": "Umsetzung_ResNet.ipynb",
      "provenance": [],
      "collapsed_sections": [
        "oenaoVP-s-FT",
        "LkHNYj-RuiV5",
        "X3GkrGP7Ffgr",
        "2Vx148WEDzkb"
      ],
      "toc_visible": true
    },
    "kernelspec": {
      "display_name": "Python 3",
      "name": "python3"
    },
    "language_info": {
      "name": "python"
    },
    "accelerator": "GPU"
  },
  "cells": [
    {
      "cell_type": "markdown",
      "metadata": {
        "id": "nsGhVmB9u0_d"
      },
      "source": [
        "# Umsetzung der ResNet Klassifizierer "
      ]
    },
    {
      "cell_type": "markdown",
      "metadata": {
        "id": "-PsZBP-w2C9d"
      },
      "source": [
        "Import der verwendeten Module und Pakete. "
      ]
    },
    {
      "cell_type": "code",
      "metadata": {
        "id": "fjjJLOyTu1QO"
      },
      "source": [
        "!pip install -Uqq fastbook\n",
        "import fastbook\n",
        "fastbook.setup_book()"
      ],
      "execution_count": null,
      "outputs": []
    },
    {
      "cell_type": "code",
      "metadata": {
        "id": "UG32jG8_u0Eq"
      },
      "source": [
        "from fastbook import *\n",
        "from fastai.vision.all import *\n",
        "from fastai.vision.widgets import *\n"
      ],
      "execution_count": 2,
      "outputs": []
    },
    {
      "cell_type": "markdown",
      "metadata": {
        "id": "3ZvzhiQs20cB"
      },
      "source": [
        "# Laden der Daten\n",
        "Die Vorbereiteten Daten für die ResNet Umsetzung laden."
      ]
    },
    {
      "cell_type": "code",
      "metadata": {
        "id": "MaN6hozU2zxN"
      },
      "source": [
        "path = Path('/content/gdrive/MyDrive/Seminar/fish_1')"
      ],
      "execution_count": 3,
      "outputs": []
    },
    {
      "cell_type": "code",
      "metadata": {
        "id": "1X7vjHQi3Onq"
      },
      "source": [
        "# setzen der Transformationen \n",
        "batch_tfms = [*aug_transforms(size=224, min_scale=0.75, flip_vert=True, max_warp=0), \n",
        "              Normalize.from_stats(*imagenet_stats)]\n",
        "bs=64"
      ],
      "execution_count": 4,
      "outputs": []
    },
    {
      "cell_type": "code",
      "metadata": {
        "id": "O7Sa3Bg-3Hqp"
      },
      "source": [
        "# DataLoaders mit Transformationen erstellen\n",
        "fish = DataBlock(\n",
        "    blocks=(ImageBlock, CategoryBlock), \n",
        "    get_items=get_image_files, \n",
        "    splitter = RandomSplitter(valid_pct=0.2, seed=42),\n",
        "    get_y=parent_label,\n",
        "    item_tfms=Resize(460), \n",
        "    batch_tfms=batch_tfms)\n",
        "dls = fish.dataloaders(path, bs=bs)"
      ],
      "execution_count": 5,
      "outputs": []
    },
    {
      "cell_type": "code",
      "metadata": {
        "id": "X9DMS5_o7nLy"
      },
      "source": [
        "# Test des DataLoaders\n",
        "# dls.show_batch(nrows=1,ncols=3)"
      ],
      "execution_count": 6,
      "outputs": []
    },
    {
      "cell_type": "code",
      "metadata": {
        "id": "I78mtk5_8gs6"
      },
      "source": [
        "# Test der Transformationen\n",
        "# dls.show_batch(nrows=2, ncols=4, unique=true)"
      ],
      "execution_count": 7,
      "outputs": []
    },
    {
      "cell_type": "markdown",
      "metadata": {
        "id": "FK92k1r16ZFd"
      },
      "source": [
        "# Umsetzung mit ResNet34 "
      ]
    },
    {
      "cell_type": "code",
      "metadata": {
        "id": "Jh__fW5Y-BEb"
      },
      "source": [
        "learn34 = cnn_learner(dls, resnet34, metrics=error_rate)"
      ],
      "execution_count": null,
      "outputs": []
    },
    {
      "cell_type": "code",
      "metadata": {
        "id": "KvgBZz0V6rqL"
      },
      "source": [
        "learn34.summary()"
      ],
      "execution_count": 10,
      "outputs": []
    },
    {
      "cell_type": "markdown",
      "metadata": {
        "id": "rqNWl-VgVdjf"
      },
      "source": [
        "stage-1"
      ]
    },
    {
      "cell_type": "code",
      "metadata": {
        "id": "Rz5gJFv6AD3u"
      },
      "source": [
        "learn34.lr_find()"
      ],
      "execution_count": 12,
      "outputs": []
    },
    {
      "cell_type": "code",
      "metadata": {
        "id": "cNLUIr7bARiD"
      },
      "source": [
        "# Anpassung mit der ausgewählten Anzahl an Epochen\n",
        "learn34.fit_one_cycle(13, lr_max=2e-3)"
      ],
      "execution_count": null,
      "outputs": []
    },
    {
      "cell_type": "code",
      "metadata": {
        "id": "h__WdIZAlNBk"
      },
      "source": [
        "learn34.recorder.plot_loss()"
      ],
      "execution_count": null,
      "outputs": []
    },
    {
      "cell_type": "code",
      "metadata": {
        "colab": {
          "base_uri": "https://localhost:8080/"
        },
        "id": "_cCzR6u8HbBa",
        "outputId": "fadd01f8-0ecf-4aa0-91d1-fb98e26478b3"
      },
      "source": [
        "# speichern\n",
        "# learn34.save('stage-1_res34-13ep')"
      ],
      "execution_count": 56,
      "outputs": [
        {
          "output_type": "execute_result",
          "data": {
            "text/plain": [
              "Path('models/stage-1_res32-12ep-7acc.pth')"
            ]
          },
          "metadata": {
            "tags": []
          },
          "execution_count": 56
        }
      ]
    },
    {
      "cell_type": "markdown",
      "metadata": {
        "id": "YwjRK9YzVQex"
      },
      "source": [
        "stage-2"
      ]
    },
    {
      "cell_type": "code",
      "metadata": {
        "colab": {
          "base_uri": "https://localhost:8080/"
        },
        "id": "zBSKEU8QQana",
        "outputId": "761da0cb-4604-4f9c-e4a6-1ea6ea2462e3"
      },
      "source": [
        "# laden\n",
        "# learn34 = cnn_learner(dls, resnet34, metrics=error_rate)\n",
        "# learn34.load('stage-1_res34-13ep')"
      ],
      "execution_count": 64,
      "outputs": [
        {
          "output_type": "execute_result",
          "data": {
            "text/plain": [
              "<fastai.learner.Learner at 0x7f648c7180d0>"
            ]
          },
          "metadata": {
            "tags": []
          },
          "execution_count": 64
        }
      ]
    },
    {
      "cell_type": "code",
      "metadata": {
        "id": "ukQqDBZYHhEw"
      },
      "source": [
        "learn34.unfreeze()\n",
        "learn34.lr_find()"
      ],
      "execution_count": null,
      "outputs": []
    },
    {
      "cell_type": "code",
      "metadata": {
        "id": "rCK3apIoHjFh"
      },
      "source": [
        "learn34.unfreeze()\n",
        "learn34.fit_one_cycle(7, lr_max=slice(1e-5, 1.4e-4))"
      ],
      "execution_count": null,
      "outputs": []
    },
    {
      "cell_type": "code",
      "metadata": {
        "id": "tJrRu-Ke42HD"
      },
      "source": [
        "# speichern und exportieren des Learners nach stage-2\n",
        "# learn34.save('stage-2_res34_7ep-047')\n",
        "# learn34.export()"
      ],
      "execution_count": 45,
      "outputs": []
    },
    {
      "cell_type": "code",
      "metadata": {
        "id": "-O2lXmp1QGy5"
      },
      "source": [
        "learn34.recorder.plot_loss()"
      ],
      "execution_count": null,
      "outputs": []
    },
    {
      "cell_type": "markdown",
      "metadata": {
        "id": "WhjuKKWbH2Ti"
      },
      "source": [
        "# Umsetzung mit ResNet101"
      ]
    },
    {
      "cell_type": "code",
      "metadata": {
        "id": "t81g2W9bIyuQ"
      },
      "source": [
        "learn101 = cnn_learner(dls, resnet101, metrics=error_rate)"
      ],
      "execution_count": null,
      "outputs": []
    },
    {
      "cell_type": "code",
      "metadata": {
        "id": "uDlwx5TNIyuQ"
      },
      "source": [
        "learn101.summary()"
      ],
      "execution_count": null,
      "outputs": []
    },
    {
      "cell_type": "markdown",
      "metadata": {
        "id": "qkp90CNGVfQV"
      },
      "source": [
        "stage-1"
      ]
    },
    {
      "cell_type": "code",
      "metadata": {
        "id": "5FAZ0ezyIyuR"
      },
      "source": [
        "learn101.lr_find()"
      ],
      "execution_count": null,
      "outputs": []
    },
    {
      "cell_type": "code",
      "metadata": {
        "id": "RzHaSL6Kw1_W"
      },
      "source": [
        "learn101 = cnn_learner(dls, resnet101, metrics=error_rate)"
      ],
      "execution_count": 83,
      "outputs": []
    },
    {
      "cell_type": "code",
      "metadata": {
        "id": "ogps30cgIyuS"
      },
      "source": [
        "learn101.fit_one_cycle(10, lr_max=3e-4)"
      ],
      "execution_count": null,
      "outputs": []
    },
    {
      "cell_type": "code",
      "metadata": {
        "id": "I63DWOcLIyuS"
      },
      "source": [
        "# speichern stage-1\n",
        "# learn101.save('stage-1_res101-10ep')"
      ],
      "execution_count": null,
      "outputs": []
    },
    {
      "cell_type": "code",
      "metadata": {
        "id": "0ygd26r87Kw8"
      },
      "source": [
        "# laden\n",
        "# learn101 = cnn_learner(dls, resnet101, metrics=error_rate)\n",
        "# learn101.load('stage-1_res101-10ep')"
      ],
      "execution_count": null,
      "outputs": []
    },
    {
      "cell_type": "code",
      "metadata": {
        "id": "ofFzf9_wS1eY"
      },
      "source": [
        "learn101.recorder.plot_loss()"
      ],
      "execution_count": null,
      "outputs": []
    },
    {
      "cell_type": "markdown",
      "metadata": {
        "id": "YFbPBouuVgtm"
      },
      "source": [
        "stage-2"
      ]
    },
    {
      "cell_type": "code",
      "metadata": {
        "id": "512IfSxFIyuT"
      },
      "source": [
        "learn101.unfreeze()\n",
        "learn101.lr_find()"
      ],
      "execution_count": null,
      "outputs": []
    },
    {
      "cell_type": "code",
      "metadata": {
        "id": "bqSzXurHIyuT"
      },
      "source": [
        "learn101.unfreeze()\n",
        "learn101.fit_one_cycle(13, lr_max=slice(6e-6, 1e-4))"
      ],
      "execution_count": null,
      "outputs": []
    },
    {
      "cell_type": "code",
      "metadata": {
        "id": "ZbL9GuEcH1RE"
      },
      "source": [
        "learn101.recorder.plot_loss()"
      ],
      "execution_count": null,
      "outputs": []
    },
    {
      "cell_type": "code",
      "metadata": {
        "id": "fxEOM668IyuT"
      },
      "source": [
        "# speichern und exportieren von stage-2\n",
        "# learn101.save('stage-2_res101_13ep-0536acc_Final')\n",
        "# learn101.export()"
      ],
      "execution_count": null,
      "outputs": []
    },
    {
      "cell_type": "code",
      "metadata": {
        "colab": {
          "base_uri": "https://localhost:8080/"
        },
        "id": "KxsjdtjxZ1pt",
        "outputId": "aae019d2-4b21-4b55-fb8e-6e0390fdebee"
      },
      "source": [
        "# laden\n",
        "# learn101.load('stage-2_res101_12ep')"
      ],
      "execution_count": null,
      "outputs": [
        {
          "output_type": "execute_result",
          "data": {
            "text/plain": [
              "<fastai.learner.Learner at 0x7f9e657404d0>"
            ]
          },
          "metadata": {
            "tags": []
          },
          "execution_count": 60
        }
      ]
    },
    {
      "cell_type": "code",
      "metadata": {
        "colab": {
          "base_uri": "https://localhost:8080/",
          "height": 265
        },
        "id": "KovU64-eYSsd",
        "outputId": "57ea1649-6602-4d56-996b-01ca6905aafd"
      },
      "source": [
        "# plotten der error_rate, falls gewünscht\n",
        "# plt.plot(L(learn101.recorder.values).itemgot(2));"
      ],
      "execution_count": null,
      "outputs": [
        {
          "output_type": "display_data",
          "data": {
            "image/png": "[encoded data removed]",
            "text/plain": [
              "<Figure size 432x288 with 1 Axes>"
            ]
          },
          "metadata": {
            "tags": [],
            "needs_background": "light"
          }
        }
      ]
    },
    {
      "cell_type": "markdown",
      "metadata": {
        "id": "JwZ2IpPvKZVj"
      },
      "source": [
        "# Zusatz\n",
        "In diesem Abschnitt sind einige Zusatzfunktionen zur Interpretation der Ergebnisse zu einfachen Umsetzung hinterlegt, identisch zu EfficientNet."
      ]
    },
    {
      "cell_type": "code",
      "metadata": {
        "id": "5lEkUTnHFHUy"
      },
      "source": [
        "# weitere Auswertungen falls gewünscht\n",
        "# learn34 = ResNet34 Learner\n",
        "# learn101 = ResNet101 Learner\n",
        "interp = ClassificationInterpretation.from_learner(learn34)\n",
        "interp.plot_confusion_matrix(figsize=(12,12), dpi=60)"
      ],
      "execution_count": null,
      "outputs": []
    },
    {
      "cell_type": "code",
      "metadata": {
        "id": "cMTNtMO3HPWG"
      },
      "source": [
        "interp.most_confused(min_val=2)"
      ],
      "execution_count": null,
      "outputs": []
    },
    {
      "cell_type": "code",
      "metadata": {
        "id": "B175sxR8Fic2"
      },
      "source": [
        "# fehlerhaft klassifizierte Bilder anzeigen\n",
        "interp.plot_top_losses(5, nrows=5)"
      ],
      "execution_count": null,
      "outputs": []
    },
    {
      "cell_type": "code",
      "metadata": {
        "id": "WCDNiC6y_ZaC"
      },
      "source": [
        "# extrahieren der exogenen und endogenen Variablen\n",
        "x,y = dls.one_batch()"
      ],
      "execution_count": null,
      "outputs": []
    },
    {
      "cell_type": "code",
      "metadata": {
        "id": "m1rLvQyJ_t79"
      },
      "source": [
        "# auslesen der Klassenbezeichnung der endogenen Variablen\n",
        "dls.vocab"
      ],
      "execution_count": null,
      "outputs": []
    },
    {
      "cell_type": "code",
      "metadata": {
        "id": "YQlX5xBI_cWz"
      },
      "source": [
        "y"
      ],
      "execution_count": null,
      "outputs": []
    },
    {
      "cell_type": "code",
      "metadata": {
        "id": "-zgB6VJ6YVFW"
      },
      "source": [
        "# auslesener der Klassenwahrscheinlichkeiten des ersten Bildes\n",
        "preds,_ = learn34.get_preds(dl=[(x,y)])\n",
        "preds[0]"
      ],
      "execution_count": null,
      "outputs": []
    },
    {
      "cell_type": "code",
      "metadata": {
        "id": "q41Oe5E6Ytx6"
      },
      "source": [
        "# prüfe die Summe der Wahrscheinlichkeiten\n",
        "len(preds[0]), preds[0].sum()"
      ],
      "execution_count": null,
      "outputs": []
    }
  ]
}