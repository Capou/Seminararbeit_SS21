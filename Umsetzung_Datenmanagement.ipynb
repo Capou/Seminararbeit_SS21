{
  "nbformat": 4,
  "nbformat_minor": 0,
  "metadata": {
    "colab": {
      "name": "Abgabe_Datenmanagement.ipynb",
      "provenance": [],
      "collapsed_sections": [],
      "toc_visible": true
    },
    "kernelspec": {
      "display_name": "Python 3",
      "name": "python3"
    },
    "language_info": {
      "name": "python"
    }
  },
  "cells": [
    {
      "cell_type": "markdown",
      "metadata": {
        "id": "nsGhVmB9u0_d"
      },
      "source": [
        "# Datensuche und Datenbereinigung\n",
        "Es ist gegebenenfalls erforderlich zur Ausführen des Codes ein GoogleDrive Laufwerk zu verbinden."
      ]
    },
    {
      "cell_type": "code",
      "metadata": {
        "id": "fjjJLOyTu1QO",
        "colab": {
          "base_uri": "https://localhost:8080/"
        },
        "outputId": "a8b507fa-157b-4b45-cae4-c55587fdc98c"
      },
      "source": [
        "!pip install -Uqq fastbook\n",
        "import fastbook\n",
        "fastbook.setup_book()"
      ],
      "execution_count": 1,
      "outputs": [
        {
          "output_type": "stream",
          "text": [
            "\u001b[K     |████████████████████████████████| 727kB 28.5MB/s \n",
            "\u001b[K     |████████████████████████████████| 1.2MB 36.1MB/s \n",
            "\u001b[K     |████████████████████████████████| 51kB 6.6MB/s \n",
            "\u001b[K     |████████████████████████████████| 194kB 52.4MB/s \n",
            "\u001b[K     |████████████████████████████████| 61kB 8.8MB/s \n",
            "\u001b[K     |████████████████████████████████| 61kB 6.7MB/s \n",
            "\u001b[?25hMounted at /content/gdrive\n"
          ],
          "name": "stdout"
        }
      ]
    },
    {
      "cell_type": "code",
      "metadata": {
        "id": "UG32jG8_u0Eq"
      },
      "source": [
        "from fastbook import *\n",
        "from fastai.vision.all import *\n",
        "from fastai.vision.widgets import *"
      ],
      "execution_count": 2,
      "outputs": []
    },
    {
      "cell_type": "code",
      "metadata": {
        "id": "ee9r9_Z9hXgO"
      },
      "source": [
        "# Google Drive Laufwerk verbinden \n",
        "# from google.colab import drive\n",
        "# drive.mount('/content/drive')"
      ],
      "execution_count": 5,
      "outputs": []
    },
    {
      "cell_type": "markdown",
      "metadata": {
        "id": "BNkRZH8_uiVj"
      },
      "source": [
        "# Download Images via Bing Search API\n"
      ]
    },
    {
      "cell_type": "markdown",
      "metadata": {
        "id": "L1KZ1J_gczaG"
      },
      "source": [
        "## Bereitstellen der Api\n",
        "\n"
      ]
    },
    {
      "cell_type": "code",
      "metadata": {
        "id": "ohyXnc7YuiVk"
      },
      "source": [
        "# API Key hinterlegen\n",
        "key = os.environ.get('AZURE_SEARCH_KEY', 'e82fbd5912b84c8da3634d6f98003fda')  "
      ],
      "execution_count": 3,
      "outputs": []
    },
    {
      "cell_type": "code",
      "metadata": {
        "colab": {
          "base_uri": "https://localhost:8080/"
        },
        "id": "5l-kkZK9uiVl",
        "outputId": "bf9b2e62-b7a4-428b-e235-ec22c38cc44e"
      },
      "source": [
        "# Test der API\n",
        "results = search_images_bing(key, 'esox lucius fish')\n",
        "ims = results.attrgot('contentUrl')\n",
        "len(ims)"
      ],
      "execution_count": 4,
      "outputs": [
        {
          "output_type": "execute_result",
          "data": {
            "text/plain": [
              "150"
            ]
          },
          "metadata": {
            "tags": []
          },
          "execution_count": 4
        }
      ]
    },
    {
      "cell_type": "markdown",
      "metadata": {
        "id": "oWgAvwoNeFOl"
      },
      "source": [
        "## Download der Bilder"
      ]
    },
    {
      "cell_type": "code",
      "metadata": {
        "id": "MaN6hozU2zxN"
      },
      "source": [
        "# definieren der Fischarten und des Speicherpfades\n",
        "fish_types = 'abramis_brama','ameiurus_nebulosus', 'cobitis_taenia', 'cyprinus_carpio', 'esox_lucius', 'gymnocephalus_cernua', 'salmo_trutta', \n",
        "path = Path('/content/gdrive/MyDrive/Seminar/fish_1')"
      ],
      "execution_count": 8,
      "outputs": []
    },
    {
      "cell_type": "markdown",
      "metadata": {
        "id": "o6iSG5Fd3Rpd"
      },
      "source": [
        "Lädt die Bilder in die entsprechenden Ordner, wenn der \"fish\" Ordner nicht bereits exisitert. "
      ]
    },
    {
      "cell_type": "code",
      "metadata": {
        "id": "hVcNLLG4uiVp"
      },
      "source": [
        "# herunterladen der Bilder, wenn nicht bereits ein \"fish_1\" ordner vorhanden\n",
        "if not path.exists():\n",
        "    path.mkdir()\n",
        "    for o in fish_types:\n",
        "        dest = (path/o)\n",
        "        dest.mkdir(exist_ok=True)\n",
        "        results = search_images_bing(key, f'{o} fish')\n",
        "        download_images(dest, urls=results.attrgot('contentUrl'))"
      ],
      "execution_count": 9,
      "outputs": []
    },
    {
      "cell_type": "code",
      "metadata": {
        "id": "-IyTLBmrNk65"
      },
      "source": [
        "# anzeigen der Ordnerstruktur\n",
        "sorted(path.ls()) "
      ],
      "execution_count": null,
      "outputs": []
    },
    {
      "cell_type": "code",
      "metadata": {
        "colab": {
          "base_uri": "https://localhost:8080/"
        },
        "id": "OiUl1fD3uiVr",
        "outputId": "6eec3227-9736-479a-e09a-b62c80cb9209"
      },
      "source": [
        "# Anzahl der Bilder \n",
        "fns = get_image_files(path)\n",
        "fns\n",
        "len(fns)"
      ],
      "execution_count": 11,
      "outputs": [
        {
          "output_type": "execute_result",
          "data": {
            "text/plain": [
              "840"
            ]
          },
          "metadata": {
            "tags": []
          },
          "execution_count": 11
        }
      ]
    },
    {
      "cell_type": "code",
      "metadata": {
        "colab": {
          "base_uri": "https://localhost:8080/"
        },
        "id": "dGFU3OEZXE2Z",
        "outputId": "34e021aa-1de7-4408-8f11-362dd13e1a63"
      },
      "source": [
        "# Bildanzahl pro Spezies\n",
        "for o in fish_types:\n",
        "  dest = (path/o)\n",
        "  fns = get_image_files(dest) \n",
        "  print(len(fns))"
      ],
      "execution_count": 12,
      "outputs": [
        {
          "output_type": "stream",
          "text": [
            "97\n",
            "133\n",
            "121\n",
            "123\n",
            "106\n",
            "130\n",
            "130\n"
          ],
          "name": "stdout"
        }
      ]
    },
    {
      "cell_type": "code",
      "metadata": {
        "id": "LWDzUHxTuiVs"
      },
      "source": [
        "# loesche nicht als Bild zu interpretierende Dateien\n",
        "failed = verify_images(fns)\n",
        "failed.map(Path.unlink);"
      ],
      "execution_count": 13,
      "outputs": []
    },
    {
      "cell_type": "markdown",
      "metadata": {
        "id": "IagMAUpzuiVw"
      },
      "source": [
        "# Bereinigen der Bilder\n",
        "Zum bereinigen erfolgt hier die Darstellung über ein einfaches Modell, die händische Bereinigung ist in den Ordnern erfolgt. "
      ]
    },
    {
      "cell_type": "code",
      "metadata": {
        "id": "QTsffDkBBLMo"
      },
      "source": [
        "# ohne Transformationen zur Datenbereinigung\n",
        "fish = DataBlock(\n",
        "    blocks=(ImageBlock, CategoryBlock), \n",
        "    get_items=get_image_files, \n",
        "    splitter = RandomSplitter(valid_pct=0.2, seed=42),\n",
        "    get_y=parent_label,\n",
        "    item_tfms=Resize(128))\n",
        "dls = fish.dataloaders(path)\n"
      ],
      "execution_count": 14,
      "outputs": []
    },
    {
      "cell_type": "markdown",
      "metadata": {
        "id": "q_eMmUgkUBaP"
      },
      "source": [
        "Die hier dargestellten Augmentationen der Daten finden später in den jeweiligen Codefiles zu den Modellen Anwendung, werden der Vollständigkeit halber hier allerdings ebenfalls aufgezeigt. \n",
        "\n",
        "\n",
        "```\n",
        "# setzen der Transformationen \n",
        "batch_tfms = [*aug_transforms(size=224, min_scale=0.75, flip_vert=True, max_warp=0), \n",
        "              Normalize.from_stats(*imagenet_stats)]\n",
        "bs=64\n",
        "```\n",
        "\n",
        "```\n",
        "# DataLoaders mit Transformationen\n",
        "fish = DataBlock(\n",
        "    blocks=(ImageBlock, CategoryBlock), \n",
        "    get_items=get_image_files, \n",
        "    splitter = RandomSplitter(valid_pct=0.2, seed=42),\n",
        "    get_y=parent_label,\n",
        "    item_tfms=Resize(460), \n",
        "    batch_tfms=batch_tfms)\n",
        "dls = fish.dataloaders(path, bs=bs)\n",
        "```\n"
      ]
    },
    {
      "cell_type": "code",
      "metadata": {
        "id": "EqHE0e7v9Fi9"
      },
      "source": [
        "# zur Fehlersuche hilfreich\n",
        "# fish.summary(path)"
      ],
      "execution_count": 15,
      "outputs": []
    },
    {
      "cell_type": "code",
      "metadata": {
        "id": "X9DMS5_o7nLy"
      },
      "source": [
        "dls.show_batch(nrows=1,ncols=3)"
      ],
      "execution_count": null,
      "outputs": []
    },
    {
      "cell_type": "code",
      "metadata": {
        "id": "Jh__fW5Y-BEb"
      },
      "source": [
        "# erstellen und trainieren des einfachen Learners zur Bereinigung der Daten\n",
        "learn = cnn_learner(dls, resnet34, metrics=error_rate)\n",
        "learn.fine_tune(4)"
      ],
      "execution_count": null,
      "outputs": []
    },
    {
      "cell_type": "code",
      "metadata": {
        "id": "KbmuZO1CWRDi"
      },
      "source": [
        "# starten des FastAi-Widgets zum bereinigen der Daten\n",
        "cleaner = ImageClassifierCleaner(learn)\n",
        "cleaner"
      ],
      "execution_count": null,
      "outputs": []
    },
    {
      "cell_type": "code",
      "metadata": {
        "id": "rA7In-exfWlL"
      },
      "source": [
        "# loeschen der Bilder mit \"Delete\"\n",
        "for idx in cleaner.delete(): cleaner.fns[idx].unlink()\n",
        "\n",
        "# verschieben in anderen Ordner\n",
        "#for idx in cleaner.delete(): shutil.move(str(cleaner.fns[idx]), '/content/gdrive/MyDrive/Seminar/deleted')"
      ],
      "execution_count": null,
      "outputs": []
    },
    {
      "cell_type": "code",
      "metadata": {
        "id": "IV4eCI9bfXiU"
      },
      "source": [
        "# verschieben der umsortierten Bilder\n",
        "for idx,cat in cleaner.change(): shutil.move(str(cleaner.fns[idx]), path/cat)"
      ],
      "execution_count": null,
      "outputs": []
    }
  ]
}